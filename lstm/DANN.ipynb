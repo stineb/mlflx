{
 "cells": [
  {
   "cell_type": "code",
   "execution_count": 146,
   "id": "c43c1859",
   "metadata": {},
   "outputs": [],
   "source": [
    "import pandas as pd\n",
    "import numpy as np\n",
    "from preprocess import prepare_df\n",
    "import torch.nn as nn\n",
    "import torch\n",
    "import torch.nn.functional as F\n",
    "from model.model import Model\n",
    "import torch.optim as optim\n",
    "from sklearn.metrics import r2_score\n",
    "\n"
   ]
  },
  {
   "cell_type": "code",
   "execution_count": 16,
   "id": "4eaa1c82",
   "metadata": {},
   "outputs": [],
   "source": [
    "DEVICE = torch.device(\"cuda:\" + str(3))"
   ]
  },
  {
   "cell_type": "code",
   "execution_count": 12,
   "id": "267f91b3",
   "metadata": {},
   "outputs": [],
   "source": [
    "data = pd.read_csv('utils/df_imputed.csv', index_col=0).drop(columns=['date'])\n",
    "\n",
    "import operator\n",
    "raw = pd.read_csv('../data/df_20210510.csv', index_col=0)['GPP_NT_VUT_REF']\n",
    "raw = raw[raw.index != 'CN-Cng']\n",
    "sites = raw.index.unique()\n",
    "\n",
    "masks = []\n",
    "for s in sites:\n",
    "    mask = raw[raw.index == s].isna().values\n",
    "    masks.append(list(map(operator.not_, mask)))"
   ]
  },
  {
   "cell_type": "code",
   "execution_count": 13,
   "id": "40788244",
   "metadata": {},
   "outputs": [],
   "source": [
    "df_sensor, df_meta, df_gpp = prepare_df(data)"
   ]
  },
  {
   "cell_type": "code",
   "execution_count": 172,
   "id": "411972eb",
   "metadata": {},
   "outputs": [
    {
     "data": {
      "text/plain": [
       "Index(['AU-ASM', 'CN-Qia', 'DE-Obe', 'DE-Tha', 'FI-Hyy', 'FI-Sod', 'FR-LBr',\n",
       "       'IT-Lav', 'IT-SR2', 'IT-SRo', 'NL-Loo', 'RU-Fyo', 'US-GLE', 'US-Me2'],\n",
       "      dtype='object', name='sitename')"
      ]
     },
     "execution_count": 172,
     "metadata": {},
     "output_type": "execute_result"
    }
   ],
   "source": []
  },
  {
   "cell_type": "code",
   "execution_count": 198,
   "id": "49e98de3",
   "metadata": {},
   "outputs": [],
   "source": [
    "sites_to_train = []\n",
    "for site in data[data.classid != \"CRO\"].index.unique():  \n",
    "    sites_to_train.append((data.index.unique() == site).argmax())\n",
    "    \n",
    "sites_to_test = []\n",
    "for site in data[data.classid == \"CRO\"].index.unique():  \n",
    "    sites_to_test.append((data.index.unique() == site).argmax())"
   ]
  },
  {
   "cell_type": "code",
   "execution_count": 188,
   "id": "27f9a8ed",
   "metadata": {},
   "outputs": [
    {
     "data": {
      "text/plain": [
       "39"
      ]
     },
     "execution_count": 188,
     "metadata": {},
     "output_type": "execute_result"
    }
   ],
   "source": [
    "len(x_train)"
   ]
  },
  {
   "cell_type": "code",
   "execution_count": 199,
   "id": "c0f68a89",
   "metadata": {},
   "outputs": [],
   "source": [
    "#sites_to_train = list(range(len(df_sensor)))\n",
    "#sites_to_train.remove(0)\n",
    "#sites_to_test = [0]\n",
    "\n",
    "x_train = [df_sensor[i].values for i in sites_to_train]\n",
    "conditional_train = [df_meta[i].values for i in sites_to_train]\n",
    "y_train = [df_gpp[i].values.reshape(-1,1) for i in sites_to_train]\n",
    "\n",
    "x_test = [df_sensor[i].values for i in sites_to_test]\n",
    "conditional_test = [df_meta[i].values for i in sites_to_test]\n",
    "y_test = [df_gpp[i].values.reshape(-1,1) for i in sites_to_test]"
   ]
  },
  {
   "cell_type": "code",
   "execution_count": 79,
   "id": "40371a38",
   "metadata": {},
   "outputs": [],
   "source": [
    "from torch.autograd import Function\n",
    "\n",
    "\n",
    "class ReverseLayerF(Function):\n",
    "\n",
    "    @staticmethod\n",
    "    def forward(ctx, x, alpha):\n",
    "        ctx.alpha = alpha\n",
    "\n",
    "        return x.view_as(x)\n",
    "\n",
    "    @staticmethod\n",
    "    def backward(ctx, grad_output):\n",
    "        output = grad_output.neg() * ctx.alpha\n",
    "\n",
    "        return output, None\n"
   ]
  },
  {
   "cell_type": "code",
   "execution_count": 153,
   "id": "64fa55f5",
   "metadata": {},
   "outputs": [],
   "source": [
    "import torch.nn as nn\n",
    "\n",
    "\n",
    "class CNNModel(nn.Module):\n",
    "\n",
    "    def __init__(self, input_dim):\n",
    "        super(CNNModel, self).__init__()\n",
    "        self.feature = nn.Sequential()\n",
    "        self.feature.add_module('f_lstm', nn.LSTM(input_size=input_dim, hidden_size=256))\n",
    "        \n",
    "        \n",
    "        self.regressor = nn.Sequential()\n",
    "        self.regressor.add_module('c_fc1', nn.Linear(256, 64))\n",
    "        #self.regressor.add_module('c_bn1', nn.BatchNorm1d(100))\n",
    "        self.regressor.add_module('c_relu1', nn.ReLU(True))\n",
    "        #self.regressor.add_module('c_drop1', nn.Dropout2d())\n",
    "        self.regressor.add_module('c_fc2', nn.Linear(64,16))\n",
    "        #self.regressor.add_module('c_bn2', nn.BatchNorm1d(20))\n",
    "        self.regressor.add_module('c_relu2', nn.ReLU(True))\n",
    "        self.regressor.add_module('c_fc3', nn.Linear(16, 1))\n",
    "\n",
    "        self.domain_classifier = nn.Sequential()\n",
    "        self.domain_classifier.add_module('d_fc1', nn.Linear(256, 100))\n",
    "        #self.domain_classifier.add_module('d_bn1', nn.BatchNorm1d(100))\n",
    "        self.domain_classifier.add_module('d_relu1', nn.ReLU(True))\n",
    "        self.domain_classifier.add_module('d_fc2', nn.Linear(100, 2))\n",
    "        self.domain_classifier.add_module('d_softmax', nn.LogSoftmax(dim=1))\n",
    "\n",
    "    def forward(self, input_data, alpha):\n",
    "        feature, (h,c) = self.feature(input_data.unsqueeze(1))\n",
    "        feature = feature.squeeze(1)\n",
    "        reverse_feature = ReverseLayerF.apply(feature, alpha)\n",
    "        gpp_output = self.regressor(feature)\n",
    "        domain_output = self.domain_classifier(reverse_feature)\n",
    "\n",
    "        return gpp_output, domain_output"
   ]
  },
  {
   "cell_type": "code",
   "execution_count": 200,
   "id": "c3e972e3",
   "metadata": {},
   "outputs": [],
   "source": [
    "model = CNNModel(11).to(DEVICE)\n",
    "optimizer = optim.Adam(model.parameters(), lr=1e-3)\n"
   ]
  },
  {
   "cell_type": "code",
   "execution_count": 201,
   "id": "79ca4bcd",
   "metadata": {},
   "outputs": [],
   "source": [
    "loss_regression = torch.nn.MSELoss()\n",
    "loss_domain = torch.nn.NLLLoss()"
   ]
  },
  {
   "cell_type": "code",
   "execution_count": 202,
   "id": "13836b1f",
   "metadata": {},
   "outputs": [
    {
     "name": "stdout",
     "output_type": "stream",
     "text": [
      "Epoch 0\n",
      " err_t_domain: 1.260 | err_s_domain:38.807 |err_s_reg: 51.721\n",
      "Test R2: -0.008042988035887544\n",
      "Epoch 1\n",
      " err_t_domain: 1.283 | err_s_domain:38.139 |err_s_reg: 51.320\n",
      "Test R2: -0.0004105433270125691\n",
      "Epoch 2\n",
      " err_t_domain: 1.304 | err_s_domain:37.562 |err_s_reg: 50.878\n",
      "Test R2: 0.009130785000467989\n",
      "Epoch 3\n",
      " err_t_domain: 1.324 | err_s_domain:37.009 |err_s_reg: 50.321\n",
      "Test R2: 0.02215661434211208\n"
     ]
    },
    {
     "ename": "KeyboardInterrupt",
     "evalue": "",
     "output_type": "error",
     "traceback": [
      "\u001b[0;31m---------------------------------------------------------------------------\u001b[0m",
      "\u001b[0;31mKeyboardInterrupt\u001b[0m                         Traceback (most recent call last)",
      "\u001b[0;32m<ipython-input-202-656685f808ec>\u001b[0m in \u001b[0;36m<module>\u001b[0;34m\u001b[0m\n\u001b[1;32m      7\u001b[0m     \u001b[0;32mfor\u001b[0m \u001b[0;34m(\u001b[0m\u001b[0mx\u001b[0m\u001b[0;34m,\u001b[0m \u001b[0my\u001b[0m\u001b[0;34m)\u001b[0m \u001b[0;32min\u001b[0m \u001b[0mzip\u001b[0m\u001b[0;34m(\u001b[0m\u001b[0mx_train\u001b[0m\u001b[0;34m,\u001b[0m \u001b[0my_train\u001b[0m\u001b[0;34m)\u001b[0m\u001b[0;34m:\u001b[0m\u001b[0;34m\u001b[0m\u001b[0;34m\u001b[0m\u001b[0m\n\u001b[1;32m      8\u001b[0m         \u001b[0;31m# training model using source data\u001b[0m\u001b[0;34m\u001b[0m\u001b[0;34m\u001b[0m\u001b[0;34m\u001b[0m\u001b[0m\n\u001b[0;32m----> 9\u001b[0;31m         \u001b[0mx\u001b[0m \u001b[0;34m=\u001b[0m \u001b[0mtorch\u001b[0m\u001b[0;34m.\u001b[0m\u001b[0mFloatTensor\u001b[0m\u001b[0;34m(\u001b[0m\u001b[0mx\u001b[0m\u001b[0;34m)\u001b[0m\u001b[0;34m.\u001b[0m\u001b[0mto\u001b[0m\u001b[0;34m(\u001b[0m\u001b[0mDEVICE\u001b[0m\u001b[0;34m)\u001b[0m\u001b[0;34m\u001b[0m\u001b[0;34m\u001b[0m\u001b[0m\n\u001b[0m\u001b[1;32m     10\u001b[0m         \u001b[0my\u001b[0m \u001b[0;34m=\u001b[0m \u001b[0mtorch\u001b[0m\u001b[0;34m.\u001b[0m\u001b[0mFloatTensor\u001b[0m\u001b[0;34m(\u001b[0m\u001b[0my\u001b[0m\u001b[0;34m)\u001b[0m\u001b[0;34m.\u001b[0m\u001b[0mto\u001b[0m\u001b[0;34m(\u001b[0m\u001b[0mDEVICE\u001b[0m\u001b[0;34m)\u001b[0m\u001b[0;34m\u001b[0m\u001b[0;34m\u001b[0m\u001b[0m\n\u001b[1;32m     11\u001b[0m         \u001b[0mdomain_label\u001b[0m \u001b[0;34m=\u001b[0m \u001b[0mtorch\u001b[0m\u001b[0;34m.\u001b[0m\u001b[0mzeros\u001b[0m\u001b[0;34m(\u001b[0m\u001b[0mx\u001b[0m\u001b[0;34m.\u001b[0m\u001b[0mshape\u001b[0m\u001b[0;34m[\u001b[0m\u001b[0;36m0\u001b[0m\u001b[0;34m]\u001b[0m\u001b[0;34m)\u001b[0m\u001b[0;34m.\u001b[0m\u001b[0mlong\u001b[0m\u001b[0;34m(\u001b[0m\u001b[0;34m)\u001b[0m\u001b[0;34m.\u001b[0m\u001b[0mto\u001b[0m\u001b[0;34m(\u001b[0m\u001b[0mDEVICE\u001b[0m\u001b[0;34m)\u001b[0m\u001b[0;34m\u001b[0m\u001b[0;34m\u001b[0m\u001b[0m\n",
      "\u001b[0;31mKeyboardInterrupt\u001b[0m: "
     ]
    }
   ],
   "source": [
    "for e in range(100):\n",
    "    model.train()\n",
    "    i = 0\n",
    "    err_s_reg = 0\n",
    "    err_s_domain = 0\n",
    "    err_t_domain = 0\n",
    "    for (x, y) in zip(x_train, y_train):\n",
    "        # training model using source data\n",
    "        x = torch.FloatTensor(x).to(DEVICE)\n",
    "        y = torch.FloatTensor(y).to(DEVICE)\n",
    "        domain_label = torch.zeros(x.shape[0]).long().to(DEVICE)\n",
    "        i += 1\n",
    "        p = float(i + e * len(x_train)) / 50 / len(x_train)\n",
    "        alpha = 2. / (1. + np.exp(-10 * p)) - 1\n",
    "\n",
    "        optimizer.zero_grad()\n",
    "        alpha *= 0.9\n",
    "        regression_output, domain_output = model(input_data=x, alpha=alpha)\n",
    "        err_s_reg += loss_regression(y, regression_output)\n",
    "        err_s_domain += loss_domain(domain_output, domain_label)\n",
    "        \n",
    "        # training model using source data\n",
    "    for (x, y) in zip(x_test, y_test):\n",
    "        x_t = torch.FloatTensor(x).to(DEVICE)\n",
    "        domain_label = torch.ones(x_t.shape[0]).long().to(DEVICE)\n",
    "        _, domain_output = model(input_data=x_t, alpha=alpha)\n",
    "        err_t_domain += loss_domain(domain_output, domain_label)\n",
    "        \n",
    "    err = err_t_domain + err_s_domain + err_s_reg\n",
    "    err.backward()\n",
    "    optimizer.step()\n",
    "    \n",
    "    r2 = 0\n",
    "    model.eval()\n",
    "    for (x, y) in zip(x_test, y_test):\n",
    "        x = torch.FloatTensor(x).to(DEVICE)\n",
    "        y = torch.FloatTensor(y).to(DEVICE)\n",
    "        regression_output, domain_output = model(input_data=x, alpha=alpha)\n",
    "        r2 += r2_score(y_true=y.detach().cpu().numpy(), y_pred=regression_output.detach().cpu().numpy())\n",
    "    r2 /= len(x_test)\n",
    "    print(f\"Epoch {e}\")\n",
    "    print(f\" err_t_domain: {err_t_domain:.3f} | err_s_domain:{err_s_domain:.3f} |err_s_reg: {err_s_reg:.3f}\")\n",
    "    print(f\"Test R2: {r2}\")"
   ]
  }
 ],
 "metadata": {
  "kernelspec": {
   "display_name": "Python 3",
   "language": "python",
   "name": "python3"
  },
  "language_info": {
   "codemirror_mode": {
    "name": "ipython",
    "version": 3
   },
   "file_extension": ".py",
   "mimetype": "text/x-python",
   "name": "python",
   "nbconvert_exporter": "python",
   "pygments_lexer": "ipython3",
   "version": "3.9.2"
  }
 },
 "nbformat": 4,
 "nbformat_minor": 5
}
