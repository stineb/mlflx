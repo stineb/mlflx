{
 "cells": [
  {
   "cell_type": "code",
   "execution_count": 2,
   "metadata": {},
   "outputs": [],
   "source": [
    "import pandas as pd\n",
    "import numpy as np\n",
    "import statsmodels.api as sm\n",
    "import matplotlib.pyplot as plt\n",
    "import seaborn as sns\n",
    "%matplotlib widget\n",
    "plt.ion()\n",
    "sns.set(rc={'figure.figsize': (11, 4)})\n",
    "import warnings\n",
    "warnings.filterwarnings('ignore')\n",
    "pd.set_option('display.max_rows', 500)\n",
    "pd.set_option('display.max_columns', 500)\n",
    "pd.set_option('display.width', 1000)"
   ]
  },
  {
   "cell_type": "code",
   "execution_count": 3,
   "metadata": {},
   "outputs": [],
   "source": [
    "# Load data\n",
    "df = pd.read_csv(\"../data/imputed/data_imp1.csv\", index_col=0)"
   ]
  },
  {
   "cell_type": "code",
   "execution_count": 4,
   "metadata": {},
   "outputs": [],
   "source": [
    "# Drop last missing values\n",
    "df = df.dropna()"
   ]
  },
  {
   "cell_type": "code",
   "execution_count": 5,
   "metadata": {},
   "outputs": [],
   "source": [
    "# Group data by sitename\n",
    "sites = df['sitename'].unique()\n",
    "sites_df = [df[df['sitename'] == site] for site in sites]\n",
    "\n",
    "for i in range(len(sites_df)):\n",
    "    sites_df[i]['date'] = pd.to_datetime(sites_df[i]['date'], format=\"%Y-%m-%d\")\n",
    "    sites_df[i] = sites_df[i].set_index(\"date\")\n"
   ]
  },
  {
   "cell_type": "code",
   "execution_count": 52,
   "metadata": {},
   "outputs": [],
   "source": [
    "train_site = 3\n",
    "predict_site = 1\n",
    "model= sm.tsa.SARIMAX(dates=sites_df[train_site].index, freq='D', exog=sites_df[train_site][[\"TA_F\", \"SW_IN_F\", \"LW_IN_F\", \"VPD_F\", \"PA_F\", \"P_F\", \"WS_F\", \"USTAR\", \"CO2_F_MDS\"]], endog=sites_df[train_site][[\"GPP_NT_VUT_REF\"]], order=(2, 0, 0))"
   ]
  },
  {
   "cell_type": "code",
   "execution_count": 53,
   "metadata": {},
   "outputs": [],
   "source": [
    "model = model.fit()"
   ]
  },
  {
   "cell_type": "code",
   "execution_count": 54,
   "metadata": {},
   "outputs": [
    {
     "data": {
      "text/html": [
       "<table class=\"simpletable\">\n",
       "<caption>SARIMAX Results</caption>\n",
       "<tr>\n",
       "  <th>Dep. Variable:</th>    <td>GPP_NT_VUT_REF</td>  <th>  No. Observations:  </th>   <td>2557</td>   \n",
       "</tr>\n",
       "<tr>\n",
       "  <th>Model:</th>           <td>SARIMAX(2, 0, 0)</td> <th>  Log Likelihood     </th> <td>-5390.377</td>\n",
       "</tr>\n",
       "<tr>\n",
       "  <th>Date:</th>            <td>Sat, 27 Mar 2021</td> <th>  AIC                </th> <td>10804.755</td>\n",
       "</tr>\n",
       "<tr>\n",
       "  <th>Time:</th>                <td>17:30:55</td>     <th>  BIC                </th> <td>10874.914</td>\n",
       "</tr>\n",
       "<tr>\n",
       "  <th>Sample:</th>             <td>01-01-2007</td>    <th>  HQIC               </th> <td>10830.197</td>\n",
       "</tr>\n",
       "<tr>\n",
       "  <th></th>                   <td>- 12-31-2013</td>   <th>                     </th>     <td> </td>    \n",
       "</tr>\n",
       "<tr>\n",
       "  <th>Covariance Type:</th>        <td>opg</td>       <th>                     </th>     <td> </td>    \n",
       "</tr>\n",
       "</table>\n",
       "<table class=\"simpletable\">\n",
       "<tr>\n",
       "      <td></td>         <th>coef</th>     <th>std err</th>      <th>z</th>      <th>P>|z|</th>  <th>[0.025</th>    <th>0.975]</th>  \n",
       "</tr>\n",
       "<tr>\n",
       "  <th>TA_F</th>      <td>    0.3395</td> <td>    0.071</td> <td>    4.757</td> <td> 0.000</td> <td>    0.200</td> <td>    0.479</td>\n",
       "</tr>\n",
       "<tr>\n",
       "  <th>SW_IN_F</th>   <td>    0.0242</td> <td>    0.001</td> <td>   16.887</td> <td> 0.000</td> <td>    0.021</td> <td>    0.027</td>\n",
       "</tr>\n",
       "<tr>\n",
       "  <th>LW_IN_F</th>   <td>   -0.0108</td> <td>    0.006</td> <td>   -1.720</td> <td> 0.085</td> <td>   -0.023</td> <td>    0.002</td>\n",
       "</tr>\n",
       "<tr>\n",
       "  <th>VPD_F</th>     <td>   -0.3814</td> <td>    0.025</td> <td>  -15.011</td> <td> 0.000</td> <td>   -0.431</td> <td>   -0.332</td>\n",
       "</tr>\n",
       "<tr>\n",
       "  <th>PA_F</th>      <td>    0.0024</td> <td>    0.017</td> <td>    0.139</td> <td> 0.889</td> <td>   -0.031</td> <td>    0.035</td>\n",
       "</tr>\n",
       "<tr>\n",
       "  <th>P_F</th>       <td>   -0.0132</td> <td>    0.004</td> <td>   -3.037</td> <td> 0.002</td> <td>   -0.022</td> <td>   -0.005</td>\n",
       "</tr>\n",
       "<tr>\n",
       "  <th>WS_F</th>      <td>   -0.5682</td> <td>    0.098</td> <td>   -5.787</td> <td> 0.000</td> <td>   -0.761</td> <td>   -0.376</td>\n",
       "</tr>\n",
       "<tr>\n",
       "  <th>USTAR</th>     <td>    4.6222</td> <td>    0.304</td> <td>   15.198</td> <td> 0.000</td> <td>    4.026</td> <td>    5.218</td>\n",
       "</tr>\n",
       "<tr>\n",
       "  <th>CO2_F_MDS</th> <td>   -0.0026</td> <td>    0.002</td> <td>   -1.262</td> <td> 0.207</td> <td>   -0.007</td> <td>    0.001</td>\n",
       "</tr>\n",
       "<tr>\n",
       "  <th>ar.L1</th>     <td>    0.4290</td> <td>    0.014</td> <td>   30.337</td> <td> 0.000</td> <td>    0.401</td> <td>    0.457</td>\n",
       "</tr>\n",
       "<tr>\n",
       "  <th>ar.L2</th>     <td>    0.3492</td> <td>    0.014</td> <td>   24.753</td> <td> 0.000</td> <td>    0.322</td> <td>    0.377</td>\n",
       "</tr>\n",
       "<tr>\n",
       "  <th>sigma2</th>    <td>    3.8872</td> <td>    0.078</td> <td>   49.838</td> <td> 0.000</td> <td>    3.734</td> <td>    4.040</td>\n",
       "</tr>\n",
       "</table>\n",
       "<table class=\"simpletable\">\n",
       "<tr>\n",
       "  <th>Ljung-Box (Q):</th>          <td>297.92</td> <th>  Jarque-Bera (JB):  </th> <td>1371.20</td>\n",
       "</tr>\n",
       "<tr>\n",
       "  <th>Prob(Q):</th>                 <td>0.00</td>  <th>  Prob(JB):          </th>  <td>0.00</td>  \n",
       "</tr>\n",
       "<tr>\n",
       "  <th>Heteroskedasticity (H):</th>  <td>0.80</td>  <th>  Skew:              </th>  <td>0.07</td>  \n",
       "</tr>\n",
       "<tr>\n",
       "  <th>Prob(H) (two-sided):</th>     <td>0.00</td>  <th>  Kurtosis:          </th>  <td>6.58</td>  \n",
       "</tr>\n",
       "</table><br/><br/>Warnings:<br/>[1] Covariance matrix calculated using the outer product of gradients (complex-step)."
      ],
      "text/plain": [
       "<class 'statsmodels.iolib.summary.Summary'>\n",
       "\"\"\"\n",
       "                               SARIMAX Results                                \n",
       "==============================================================================\n",
       "Dep. Variable:         GPP_NT_VUT_REF   No. Observations:                 2557\n",
       "Model:               SARIMAX(2, 0, 0)   Log Likelihood               -5390.377\n",
       "Date:                Sat, 27 Mar 2021   AIC                          10804.755\n",
       "Time:                        17:30:55   BIC                          10874.914\n",
       "Sample:                    01-01-2007   HQIC                         10830.197\n",
       "                         - 12-31-2013                                         \n",
       "Covariance Type:                  opg                                         \n",
       "==============================================================================\n",
       "                 coef    std err          z      P>|z|      [0.025      0.975]\n",
       "------------------------------------------------------------------------------\n",
       "TA_F           0.3395      0.071      4.757      0.000       0.200       0.479\n",
       "SW_IN_F        0.0242      0.001     16.887      0.000       0.021       0.027\n",
       "LW_IN_F       -0.0108      0.006     -1.720      0.085      -0.023       0.002\n",
       "VPD_F         -0.3814      0.025    -15.011      0.000      -0.431      -0.332\n",
       "PA_F           0.0024      0.017      0.139      0.889      -0.031       0.035\n",
       "P_F           -0.0132      0.004     -3.037      0.002      -0.022      -0.005\n",
       "WS_F          -0.5682      0.098     -5.787      0.000      -0.761      -0.376\n",
       "USTAR          4.6222      0.304     15.198      0.000       4.026       5.218\n",
       "CO2_F_MDS     -0.0026      0.002     -1.262      0.207      -0.007       0.001\n",
       "ar.L1          0.4290      0.014     30.337      0.000       0.401       0.457\n",
       "ar.L2          0.3492      0.014     24.753      0.000       0.322       0.377\n",
       "sigma2         3.8872      0.078     49.838      0.000       3.734       4.040\n",
       "===================================================================================\n",
       "Ljung-Box (Q):                      297.92   Jarque-Bera (JB):              1371.20\n",
       "Prob(Q):                              0.00   Prob(JB):                         0.00\n",
       "Heteroskedasticity (H):               0.80   Skew:                             0.07\n",
       "Prob(H) (two-sided):                  0.00   Kurtosis:                         6.58\n",
       "===================================================================================\n",
       "\n",
       "Warnings:\n",
       "[1] Covariance matrix calculated using the outer product of gradients (complex-step).\n",
       "\"\"\""
      ]
     },
     "execution_count": 54,
     "metadata": {},
     "output_type": "execute_result"
    }
   ],
   "source": [
    "model.summary()"
   ]
  },
  {
   "cell_type": "code",
   "execution_count": 56,
   "metadata": {},
   "outputs": [],
   "source": [
    "preds = model.predict(dates=sites_df[predict_site].index, freq='D', exog=sites_df[predict_site][[\"TA_F\", \"SW_IN_F\", \"LW_IN_F\", \"VPD_F\", \"PA_F\", \"P_F\", \"WS_F\", \"USTAR\", \"CO2_F_MDS\"]], endog=sites_df[predict_site][[\"GPP_NT_VUT_REF\"]])\n",
    "\n",
    "index = sites_df[predict_site].index\n",
    "preds = preds.values\n",
    "truth = np.squeeze(sites_df[predict_site][[\"GPP_NT_VUT_REF\"]].values)\n",
    "\n",
    "# %matplotlib widget\n",
    "# plt.ion()\n",
    "# plt.scatter(index, preds, label=\"Predictions\", s=1)\n",
    "# plt.scatter(index, truth, label=\"Ground truth\", s=1)\n",
    "# plt.legend()\n",
    "# plt.show()"
   ]
  },
  {
   "cell_type": "code",
   "execution_count": 50,
   "metadata": {},
   "outputs": [
    {
     "data": {
      "application/vnd.jupyter.widget-view+json": {
       "model_id": "7365c85df9584110bf707a189fee3d3f",
       "version_major": 2,
       "version_minor": 0
      },
      "text/plain": [
       "Canvas(toolbar=Toolbar(toolitems=[('Home', 'Reset original view', 'home', 'home'), ('Back', 'Back to previous …"
      ]
     },
     "metadata": {},
     "output_type": "display_data"
    }
   ],
   "source": [
    "residuals = (preds - truth) ** 2\n",
    "\n",
    "%matplotlib widget\n",
    "plt.ion()\n",
    "plt.scatter(index, residuals, label=\"Residuals\", s=1)\n",
    "plt.legend()\n",
    "plt.show()"
   ]
  },
  {
   "cell_type": "code",
   "execution_count": 51,
   "metadata": {},
   "outputs": [
    {
     "data": {
      "text/plain": [
       "3.9667760653202784"
      ]
     },
     "execution_count": 51,
     "metadata": {},
     "output_type": "execute_result"
    }
   ],
   "source": [
    "np.sum(residuals) / len(index)"
   ]
  },
  {
   "cell_type": "code",
   "execution_count": 57,
   "metadata": {},
   "outputs": [
    {
     "data": {
      "text/plain": [
       "2557"
      ]
     },
     "execution_count": 57,
     "metadata": {},
     "output_type": "execute_result"
    }
   ],
   "source": [
    "len(preds)"
   ]
  },
  {
   "cell_type": "code",
   "execution_count": 58,
   "metadata": {},
   "outputs": [
    {
     "data": {
      "text/plain": [
       "1096"
      ]
     },
     "execution_count": 58,
     "metadata": {},
     "output_type": "execute_result"
    }
   ],
   "source": [
    "len(truth)"
   ]
  },
  {
   "cell_type": "code",
   "execution_count": 59,
   "metadata": {
    "scrolled": true
   },
   "outputs": [
    {
     "data": {
      "text/plain": [
       "2557"
      ]
     },
     "execution_count": 59,
     "metadata": {},
     "output_type": "execute_result"
    }
   ],
   "source": [
    "len(sites_df[train_site].index)"
   ]
  },
  {
   "cell_type": "code",
   "execution_count": 61,
   "metadata": {},
   "outputs": [
    {
     "data": {
      "text/plain": [
       "1096"
      ]
     },
     "execution_count": 61,
     "metadata": {},
     "output_type": "execute_result"
    }
   ],
   "source": [
    "len(index)"
   ]
  },
  {
   "cell_type": "code",
   "execution_count": null,
   "metadata": {},
   "outputs": [],
   "source": []
  }
 ],
 "metadata": {
  "kernelspec": {
   "display_name": "Python 3",
   "language": "python",
   "name": "python3"
  },
  "language_info": {
   "codemirror_mode": {
    "name": "ipython",
    "version": 3
   },
   "file_extension": ".py",
   "mimetype": "text/x-python",
   "name": "python",
   "nbconvert_exporter": "python",
   "pygments_lexer": "ipython3",
   "version": "3.7.6"
  }
 },
 "nbformat": 4,
 "nbformat_minor": 4
}
