{
 "cells": [
  {
   "cell_type": "code",
   "execution_count": 132,
   "metadata": {},
   "outputs": [],
   "source": [
    "import pandas as pd\n",
    "import numpy as np\n",
    "import matplotlib.pyplot as plt\n",
    "import seaborn as sns\n",
    "import calendar\n",
    "%matplotlib widget\n",
    "plt.ion()\n",
    "sns.set(rc={'figure.figsize': (11, 4)})\n",
    "import warnings\n",
    "warnings.filterwarnings('ignore')\n",
    "pd.set_option('display.max_rows', 500)\n",
    "pd.set_option('display.max_columns', 500)\n",
    "pd.set_option('display.width', 1000)"
   ]
  },
  {
   "cell_type": "code",
   "execution_count": 114,
   "metadata": {},
   "outputs": [],
   "source": [
    "ds = pd.read_csv(\"../data/ddf_combined_mlflx.csv\")"
   ]
  },
  {
   "cell_type": "code",
   "execution_count": 115,
   "metadata": {},
   "outputs": [],
   "source": [
    "sites = ds.sitename.unique()"
   ]
  },
  {
   "cell_type": "code",
   "execution_count": 123,
   "metadata": {},
   "outputs": [],
   "source": [
    "# For every site, for every year\n",
    "# take the average and sd of every month\n",
    "# and fill the daily nans of that month with normal(average, sd) over the year - reproduce the trend\n",
    "\n",
    "def impute_site(ds, site):\n",
    "    # usage: ds[ds['sitename'] == site][[\"GPP_NT_VUT_REF\"] = impute_site(ds, site)\n",
    "    temp_df = ds[ds['sitename'] == site][[\"date\", \"GPP_NT_VUT_REF\"]]\n",
    "    temp_df['date'] = pd.to_datetime(temp_df['date'], format=\"%Y-%m-%d\")\n",
    "    temp_df = temp_df.set_index(\"date\")\n",
    "    m = temp_df.groupby(temp_df.index.month).mean()\n",
    "    sd = temp_df.groupby(temp_df.index.month).std()\n",
    "    \n",
    "    for index, row in temp_df.iterrows():\n",
    "        month = index.month - 1\n",
    "        if pd.isnull(row['GPP_NT_VUT_REF']):\n",
    "            row['GPP_NT_VUT_REF'] = np.random.normal(m.iloc[month], sd.iloc[month], size=1)[0]\n",
    "    return temp_df['GPP_NT_VUT_REF']\n",
    "    "
   ]
  },
  {
   "cell_type": "code",
   "execution_count": 129,
   "metadata": {},
   "outputs": [
    {
     "name": "stdout",
     "output_type": "stream",
     "text": [
      "Site: 1/71 - AR-Vir\n",
      "Site: 2/71 - AU-Ade\n",
      "Site: 3/71 - AU-ASM\n",
      "Site: 4/71 - AU-DaP\n",
      "Site: 5/71 - AU-DaS\n",
      "Site: 6/71 - AU-Dry\n",
      "Site: 7/71 - AU-Fog\n",
      "Site: 8/71 - AU-Gin\n",
      "Site: 9/71 - AU-How\n",
      "Site: 10/71 - AU-Stp\n",
      "Site: 11/71 - AU-Whr\n",
      "Site: 12/71 - AU-Wom\n",
      "Site: 13/71 - BE-Bra\n",
      "Site: 14/71 - BE-Vie\n",
      "Site: 15/71 - CH-Fru\n",
      "Site: 16/71 - CH-Lae\n",
      "Site: 17/71 - CH-Oe1\n",
      "Site: 18/71 - CN-Cng\n",
      "Site: 19/71 - CN-Qia\n",
      "Site: 20/71 - CZ-wet\n",
      "Site: 21/71 - DE-Akm\n",
      "Site: 22/71 - DE-Geb\n",
      "Site: 23/71 - DE-Gri\n",
      "Site: 24/71 - DE-Hai\n",
      "Site: 25/71 - DE-Kli\n",
      "Site: 26/71 - DE-Obe\n",
      "Site: 27/71 - DE-RuR\n",
      "Site: 28/71 - DE-Spw\n",
      "Site: 29/71 - DE-Tha\n",
      "Site: 30/71 - DK-NuF\n",
      "Site: 31/71 - DK-Sor\n",
      "Site: 32/71 - FI-Hyy\n",
      "Site: 33/71 - FI-Sod\n",
      "Site: 34/71 - FR-Fon\n",
      "Site: 35/71 - FR-LBr\n",
      "Site: 36/71 - FR-Pue\n",
      "Site: 37/71 - IT-Col\n",
      "Site: 38/71 - IT-Cp2\n",
      "Site: 39/71 - IT-Cpz\n",
      "Site: 40/71 - IT-Isp\n",
      "Site: 41/71 - IT-Lav\n",
      "Site: 42/71 - IT-MBo\n",
      "Site: 43/71 - IT-Noe\n",
      "Site: 44/71 - IT-PT1\n",
      "Site: 45/71 - IT-Ren\n",
      "Site: 46/71 - IT-Ro1\n",
      "Site: 47/71 - IT-SR2\n",
      "Site: 48/71 - IT-SRo\n",
      "Site: 49/71 - IT-Tor\n",
      "Site: 50/71 - JP-SMF\n",
      "Site: 51/71 - NL-Hor\n",
      "Site: 52/71 - NL-Loo\n",
      "Site: 53/71 - RU-Fyo\n",
      "Site: 54/71 - SD-Dem\n",
      "Site: 55/71 - SN-Dhr\n",
      "Site: 56/71 - US-GLE\n",
      "Site: 57/71 - US-Ha1\n",
      "Site: 58/71 - US-Los\n",
      "Site: 59/71 - US-Me2\n",
      "Site: 60/71 - US-MMS\n",
      "Site: 61/71 - US-PFa\n",
      "Site: 62/71 - US-SRG\n",
      "Site: 63/71 - US-SRM\n",
      "Site: 64/71 - US-Syv\n",
      "Site: 65/71 - US-Ton\n",
      "Site: 66/71 - US-UMB\n",
      "Site: 67/71 - US-UMd\n",
      "Site: 68/71 - US-Var\n",
      "Site: 69/71 - US-WCr\n",
      "Site: 70/71 - US-Wi4\n",
      "Site: 71/71 - ZM-Mon\n"
     ]
    }
   ],
   "source": [
    "l = len(sites)\n",
    "for i, site in enumerate(sites):\n",
    "    print(f\"Site: {i+1}/{l} - {site}\")\n",
    "    ds.loc[ds['sitename'] == site, \"GPP_NT_VUT_REF\"] = impute_site(ds, site).values"
   ]
  },
  {
   "cell_type": "code",
   "execution_count": 133,
   "metadata": {},
   "outputs": [],
   "source": [
    "def plot_target_by_months(ds, site, year):\n",
    "    site_df = ds[ds['sitename'] == site][[\"date\", \"GPP_NT_VUT_REF\"]]\n",
    "    site_df['date'] = pd.to_datetime(site_df['date'], format=\"%Y-%m-%d\")\n",
    "    site_df = site_df.set_index(\"date\")\n",
    "\n",
    "    year_df = site_df[site_df.index.year == year]\n",
    "    # year_df.groupby(year_df.index.month).boxplot()\n",
    "    year_df['month'] = year_df.index.month\n",
    "    year_df['month'] = year_df['month'].apply(lambda x: calendar.month_abbr[x])\n",
    "    %matplotlib widget\n",
    "    plt.ion()\n",
    "    sns.boxplot(data=year_df, x='month', y=\"GPP_NT_VUT_REF\").set_title(site + \" in \" + str(year))"
   ]
  },
  {
   "cell_type": "code",
   "execution_count": 134,
   "metadata": {},
   "outputs": [
    {
     "data": {
      "application/vnd.jupyter.widget-view+json": {
       "model_id": "c639032f276943fbb53bfb36e6a4f372",
       "version_major": 2,
       "version_minor": 0
      },
      "text/plain": [
       "Canvas(toolbar=Toolbar(toolitems=[('Home', 'Reset original view', 'home', 'home'), ('Back', 'Back to previous …"
      ]
     },
     "metadata": {},
     "output_type": "display_data"
    }
   ],
   "source": [
    "plot_target_by_months(ds, \"AR-Vir\", 2009)"
   ]
  },
  {
   "cell_type": "code",
   "execution_count": 137,
   "metadata": {},
   "outputs": [
    {
     "data": {
      "application/vnd.jupyter.widget-view+json": {
       "model_id": "84641f821af344d69235f40c0d1e0e9c",
       "version_major": 2,
       "version_minor": 0
      },
      "text/plain": [
       "Canvas(toolbar=Toolbar(toolitems=[('Home', 'Reset original view', 'home', 'home'), ('Back', 'Back to previous …"
      ]
     },
     "metadata": {},
     "output_type": "display_data"
    }
   ],
   "source": [
    "plot_target_by_months(ds, \"AR-Vir\", 2012)"
   ]
  },
  {
   "cell_type": "code",
   "execution_count": null,
   "metadata": {},
   "outputs": [],
   "source": []
  }
 ],
 "metadata": {
  "kernelspec": {
   "display_name": "Python 3",
   "language": "python",
   "name": "python3"
  },
  "language_info": {
   "codemirror_mode": {
    "name": "ipython",
    "version": 3
   },
   "file_extension": ".py",
   "mimetype": "text/x-python",
   "name": "python",
   "nbconvert_exporter": "python",
   "pygments_lexer": "ipython3",
   "version": "3.7.6"
  }
 },
 "nbformat": 4,
 "nbformat_minor": 4
}
