{
 "cells": [
  {
   "cell_type": "code",
   "execution_count": 4,
   "metadata": {},
   "outputs": [],
   "source": [
    "import pandas as pd\n",
    "import numpy as np\n",
    "import matplotlib.pyplot as plt\n",
    "import seaborn as sns\n",
    "%matplotlib widget\n",
    "plt.ion()\n",
    "sns.set(rc={'figure.figsize': (11, 4)})\n",
    "import warnings\n",
    "warnings.filterwarnings('ignore')\n",
    "pd.set_option('display.max_rows', 500)\n",
    "pd.set_option('display.max_columns', 500)\n",
    "pd.set_option('display.width', 1000)"
   ]
  },
  {
   "cell_type": "code",
   "execution_count": 5,
   "metadata": {},
   "outputs": [],
   "source": [
    "# Load data\n",
    "df = pd.read_csv(\"../data/imputed/data_imp1.csv\", index_col=0)\n",
    "df = df.dropna()"
   ]
  },
  {
   "cell_type": "code",
   "execution_count": null,
   "metadata": {},
   "outputs": [],
   "source": [
    "metadata = pd.read_csv(\"../data/\")"
   ]
  },
  {
   "cell_type": "code",
   "execution_count": 6,
   "metadata": {},
   "outputs": [],
   "source": [
    "# Group data by sitename\n",
    "sites = df['sitename'].unique()\n",
    "sites_df = [df[df['sitename'] == site] for site in sites]\n",
    "\n",
    "for i in range(len(sites_df)):\n",
    "    sites_df[i]['date'] = pd.to_datetime(sites_df[i]['date'], format=\"%Y-%m-%d\")\n",
    "    sites_df[i] = sites_df[i].set_index(\"date\")"
   ]
  },
  {
   "cell_type": "code",
   "execution_count": 314,
   "metadata": {},
   "outputs": [
    {
     "data": {
      "text/html": [
       "<div>\n",
       "<style scoped>\n",
       "    .dataframe tbody tr th:only-of-type {\n",
       "        vertical-align: middle;\n",
       "    }\n",
       "\n",
       "    .dataframe tbody tr th {\n",
       "        vertical-align: top;\n",
       "    }\n",
       "\n",
       "    .dataframe thead th {\n",
       "        text-align: right;\n",
       "    }\n",
       "</style>\n",
       "<table border=\"1\" class=\"dataframe\">\n",
       "  <thead>\n",
       "    <tr style=\"text-align: right;\">\n",
       "      <th></th>\n",
       "      <th>sitename</th>\n",
       "      <th>date</th>\n",
       "      <th>TA_F</th>\n",
       "      <th>SW_IN_F</th>\n",
       "      <th>LW_IN_F</th>\n",
       "      <th>VPD_F</th>\n",
       "      <th>PA_F</th>\n",
       "      <th>P_F</th>\n",
       "      <th>WS_F</th>\n",
       "      <th>USTAR</th>\n",
       "      <th>CO2_F_MDS</th>\n",
       "      <th>GPP_NT_VUT_REF</th>\n",
       "    </tr>\n",
       "  </thead>\n",
       "  <tbody>\n",
       "    <tr>\n",
       "      <th>1</th>\n",
       "      <td>AR-Vir</td>\n",
       "      <td>2009-01-01</td>\n",
       "      <td>28.671</td>\n",
       "      <td>307.007</td>\n",
       "      <td>392.519</td>\n",
       "      <td>20.158</td>\n",
       "      <td>99.548</td>\n",
       "      <td>0.000</td>\n",
       "      <td>3.744</td>\n",
       "      <td>0.553115</td>\n",
       "      <td>354.284918</td>\n",
       "      <td>-0.695432</td>\n",
       "    </tr>\n",
       "    <tr>\n",
       "      <th>2</th>\n",
       "      <td>AR-Vir</td>\n",
       "      <td>2009-01-02</td>\n",
       "      <td>24.547</td>\n",
       "      <td>212.807</td>\n",
       "      <td>399.500</td>\n",
       "      <td>11.046</td>\n",
       "      <td>99.552</td>\n",
       "      <td>6.917</td>\n",
       "      <td>3.913</td>\n",
       "      <td>0.534813</td>\n",
       "      <td>349.998459</td>\n",
       "      <td>9.582348</td>\n",
       "    </tr>\n",
       "    <tr>\n",
       "      <th>3</th>\n",
       "      <td>AR-Vir</td>\n",
       "      <td>2009-01-03</td>\n",
       "      <td>22.329</td>\n",
       "      <td>276.267</td>\n",
       "      <td>369.261</td>\n",
       "      <td>11.534</td>\n",
       "      <td>99.733</td>\n",
       "      <td>0.329</td>\n",
       "      <td>4.206</td>\n",
       "      <td>0.624032</td>\n",
       "      <td>385.025344</td>\n",
       "      <td>8.512268</td>\n",
       "    </tr>\n",
       "    <tr>\n",
       "      <th>4</th>\n",
       "      <td>AR-Vir</td>\n",
       "      <td>2009-01-04</td>\n",
       "      <td>22.994</td>\n",
       "      <td>339.802</td>\n",
       "      <td>335.382</td>\n",
       "      <td>14.660</td>\n",
       "      <td>99.979</td>\n",
       "      <td>0.000</td>\n",
       "      <td>2.745</td>\n",
       "      <td>0.136002</td>\n",
       "      <td>387.550232</td>\n",
       "      <td>5.998422</td>\n",
       "    </tr>\n",
       "    <tr>\n",
       "      <th>5</th>\n",
       "      <td>AR-Vir</td>\n",
       "      <td>2009-01-05</td>\n",
       "      <td>24.699</td>\n",
       "      <td>345.667</td>\n",
       "      <td>339.134</td>\n",
       "      <td>17.114</td>\n",
       "      <td>99.785</td>\n",
       "      <td>0.000</td>\n",
       "      <td>1.799</td>\n",
       "      <td>0.241101</td>\n",
       "      <td>361.244943</td>\n",
       "      <td>9.369482</td>\n",
       "    </tr>\n",
       "    <tr>\n",
       "      <th>...</th>\n",
       "      <td>...</td>\n",
       "      <td>...</td>\n",
       "      <td>...</td>\n",
       "      <td>...</td>\n",
       "      <td>...</td>\n",
       "      <td>...</td>\n",
       "      <td>...</td>\n",
       "      <td>...</td>\n",
       "      <td>...</td>\n",
       "      <td>...</td>\n",
       "      <td>...</td>\n",
       "      <td>...</td>\n",
       "    </tr>\n",
       "    <tr>\n",
       "      <th>265173</th>\n",
       "      <td>ZM-Mon</td>\n",
       "      <td>2009-12-27</td>\n",
       "      <td>22.857</td>\n",
       "      <td>291.147</td>\n",
       "      <td>375.190</td>\n",
       "      <td>7.918</td>\n",
       "      <td>89.212</td>\n",
       "      <td>0.467</td>\n",
       "      <td>1.897</td>\n",
       "      <td>0.495470</td>\n",
       "      <td>393.599670</td>\n",
       "      <td>5.688883</td>\n",
       "    </tr>\n",
       "    <tr>\n",
       "      <th>265174</th>\n",
       "      <td>ZM-Mon</td>\n",
       "      <td>2009-12-28</td>\n",
       "      <td>22.720</td>\n",
       "      <td>271.966</td>\n",
       "      <td>381.716</td>\n",
       "      <td>6.998</td>\n",
       "      <td>89.171</td>\n",
       "      <td>1.650</td>\n",
       "      <td>1.360</td>\n",
       "      <td>0.396692</td>\n",
       "      <td>370.456133</td>\n",
       "      <td>7.266249</td>\n",
       "    </tr>\n",
       "    <tr>\n",
       "      <th>265175</th>\n",
       "      <td>ZM-Mon</td>\n",
       "      <td>2009-12-29</td>\n",
       "      <td>21.899</td>\n",
       "      <td>241.666</td>\n",
       "      <td>381.685</td>\n",
       "      <td>4.748</td>\n",
       "      <td>89.142</td>\n",
       "      <td>5.493</td>\n",
       "      <td>1.403</td>\n",
       "      <td>0.207637</td>\n",
       "      <td>445.700182</td>\n",
       "      <td>9.269704</td>\n",
       "    </tr>\n",
       "    <tr>\n",
       "      <th>265176</th>\n",
       "      <td>ZM-Mon</td>\n",
       "      <td>2009-12-30</td>\n",
       "      <td>22.296</td>\n",
       "      <td>234.093</td>\n",
       "      <td>384.903</td>\n",
       "      <td>6.234</td>\n",
       "      <td>89.143</td>\n",
       "      <td>2.134</td>\n",
       "      <td>2.160</td>\n",
       "      <td>0.256847</td>\n",
       "      <td>363.831560</td>\n",
       "      <td>12.287981</td>\n",
       "    </tr>\n",
       "    <tr>\n",
       "      <th>265177</th>\n",
       "      <td>ZM-Mon</td>\n",
       "      <td>2009-12-31</td>\n",
       "      <td>21.609</td>\n",
       "      <td>181.602</td>\n",
       "      <td>392.126</td>\n",
       "      <td>4.895</td>\n",
       "      <td>89.212</td>\n",
       "      <td>4.495</td>\n",
       "      <td>2.650</td>\n",
       "      <td>0.384972</td>\n",
       "      <td>379.882122</td>\n",
       "      <td>9.127574</td>\n",
       "    </tr>\n",
       "  </tbody>\n",
       "</table>\n",
       "<p>265175 rows × 12 columns</p>\n",
       "</div>"
      ],
      "text/plain": [
       "       sitename        date    TA_F  SW_IN_F  LW_IN_F   VPD_F    PA_F    P_F   WS_F     USTAR   CO2_F_MDS  GPP_NT_VUT_REF\n",
       "1        AR-Vir  2009-01-01  28.671  307.007  392.519  20.158  99.548  0.000  3.744  0.553115  354.284918       -0.695432\n",
       "2        AR-Vir  2009-01-02  24.547  212.807  399.500  11.046  99.552  6.917  3.913  0.534813  349.998459        9.582348\n",
       "3        AR-Vir  2009-01-03  22.329  276.267  369.261  11.534  99.733  0.329  4.206  0.624032  385.025344        8.512268\n",
       "4        AR-Vir  2009-01-04  22.994  339.802  335.382  14.660  99.979  0.000  2.745  0.136002  387.550232        5.998422\n",
       "5        AR-Vir  2009-01-05  24.699  345.667  339.134  17.114  99.785  0.000  1.799  0.241101  361.244943        9.369482\n",
       "...         ...         ...     ...      ...      ...     ...     ...    ...    ...       ...         ...             ...\n",
       "265173   ZM-Mon  2009-12-27  22.857  291.147  375.190   7.918  89.212  0.467  1.897  0.495470  393.599670        5.688883\n",
       "265174   ZM-Mon  2009-12-28  22.720  271.966  381.716   6.998  89.171  1.650  1.360  0.396692  370.456133        7.266249\n",
       "265175   ZM-Mon  2009-12-29  21.899  241.666  381.685   4.748  89.142  5.493  1.403  0.207637  445.700182        9.269704\n",
       "265176   ZM-Mon  2009-12-30  22.296  234.093  384.903   6.234  89.143  2.134  2.160  0.256847  363.831560       12.287981\n",
       "265177   ZM-Mon  2009-12-31  21.609  181.602  392.126   4.895  89.212  4.495  2.650  0.384972  379.882122        9.127574\n",
       "\n",
       "[265175 rows x 12 columns]"
      ]
     },
     "execution_count": 314,
     "metadata": {},
     "output_type": "execute_result"
    }
   ],
   "source": [
    "df"
   ]
  },
  {
   "cell_type": "code",
   "execution_count": 320,
   "metadata": {},
   "outputs": [
    {
     "name": "stderr",
     "output_type": "stream",
     "text": [
      "100%|██████████| 71/71 [43:26<00:00, 36.72s/it]\n"
     ]
    }
   ],
   "source": [
    "import numpy as np\n",
    "from sklearn.ensemble import GradientBoostingRegressor\n",
    "from tqdm import tqdm\n",
    "\n",
    "regr =  GradientBoostingRegressor(n_estimators=100, learning_rate=0.1,  max_depth=2, random_state=0, loss='ls')\n",
    "cv = []\n",
    "sites = df['sitename'].unique()\n",
    "\n",
    "\n",
    "for i in tqdm(range(len(sites))):\n",
    "    train = df[df.sitename != sites[i]]\n",
    "    test = df[df.sitename == sites[i]]\n",
    "    X_train = train.drop(columns=[\"GPP_NT_VUT_REF\",\"sitename\",\"date\"]).values\n",
    "    X_test = test.drop(columns=[\"GPP_NT_VUT_REF\",\"sitename\",\"date\"]).values\n",
    "    y_train = train['GPP_NT_VUT_REF'].values\n",
    "    y_test = test['GPP_NT_VUT_REF'].values\n",
    "    regr.fit(X_train,y_train)\n",
    "    preds = regr.predict(X_test)\n",
    "    cv.append((sites[i],mean_squared_error(y_test,preds)))\n",
    "\n",
    "\n"
   ]
  },
  {
   "cell_type": "code",
   "execution_count": 347,
   "metadata": {},
   "outputs": [
    {
     "name": "stdout",
     "output_type": "stream",
     "text": [
      "LOOCV: 7.514659705557011 +- 3.410238044429465\n"
     ]
    }
   ],
   "source": [
    "cv_np = np.asarray(cv)[:,1].astype(float)\n",
    "print(f\"LOOCV: {np.mean(cv_np)} +- {np.std(cv_np)}\")"
   ]
  },
  {
   "cell_type": "code",
   "execution_count": 348,
   "metadata": {},
   "outputs": [
    {
     "data": {
      "text/plain": [
       "[('AR-Vir', 21.449606436009276),\n",
       " ('AU-Ade', 6.585498572669307),\n",
       " ('AU-ASM', 8.478658697482906),\n",
       " ('AU-DaP', 8.689628473455361),\n",
       " ('AU-DaS', 4.276220110219993),\n",
       " ('AU-Dry', 5.683514302578594),\n",
       " ('AU-Fog', 12.964600786247477),\n",
       " ('AU-Gin', 9.156615376546563),\n",
       " ('AU-How', 5.097902475703656),\n",
       " ('AU-Stp', 7.978873400740239),\n",
       " ('AU-Whr', 5.668417771188435),\n",
       " ('AU-Wom', 5.251263219856007),\n",
       " ('BE-Bra', 4.092026824358347),\n",
       " ('BE-Vie', 5.194755408038089),\n",
       " ('CH-Fru', 10.987115726972805),\n",
       " ('CH-Lae', 8.537411966640988),\n",
       " ('CH-Oe1', 8.585237533954537),\n",
       " ('CN-Cng', 6.047398278622873),\n",
       " ('CN-Qia', 4.8505266910465),\n",
       " ('CZ-wet', 4.828390255929098),\n",
       " ('DE-Akm', 7.7415583865818824),\n",
       " ('DE-Geb', 12.240551495559728),\n",
       " ('DE-Gri', 6.771816027849155),\n",
       " ('DE-Hai', 8.47595586505541),\n",
       " ('DE-Kli', 10.847627383791696),\n",
       " ('DE-Obe', 7.486132184440825),\n",
       " ('DE-RuR', 5.512538378890511),\n",
       " ('DE-Spw', 8.242915615079932),\n",
       " ('DE-Tha', 7.705782297063466),\n",
       " ('DK-NuF', 9.514240187593197),\n",
       " ('DK-Sor', 14.301144898250872),\n",
       " ('FI-Hyy', 2.377223313219479),\n",
       " ('FI-Sod', 2.7402150397268836),\n",
       " ('FR-Fon', 9.516181272714135),\n",
       " ('FR-LBr', 4.439086627606543),\n",
       " ('FR-Pue', 4.879665207734959),\n",
       " ('IT-Col', 7.283335760295195),\n",
       " ('IT-Cp2', 4.4484181567737275),\n",
       " ('IT-Cpz', 5.550535383381472),\n",
       " ('IT-Isp', 15.996550147126083),\n",
       " ('IT-Lav', 8.15173245355935),\n",
       " ('IT-MBo', 5.36205429715179),\n",
       " ('IT-Noe', 13.477661816637385),\n",
       " ('IT-PT1', 7.005400386554393),\n",
       " ('IT-Ren', 5.110599383794166),\n",
       " ('IT-Ro1', 6.955277651047174),\n",
       " ('IT-SR2', 3.2788206818227192),\n",
       " ('IT-SRo', 5.401319352467834),\n",
       " ('IT-Tor', 5.2047773820972365),\n",
       " ('JP-SMF', 4.320158725932328),\n",
       " ('NL-Hor', 4.3277475489664425),\n",
       " ('NL-Loo', 2.4766209533836636),\n",
       " ('RU-Fyo', 4.743098116275812),\n",
       " ('SD-Dem', 11.425949820493312),\n",
       " ('SN-Dhr', 15.182165610808427),\n",
       " ('US-GLE', 4.848749876243484),\n",
       " ('US-Ha1', 7.98186658586488),\n",
       " ('US-Los', 7.385789541081389),\n",
       " ('US-Me2', 6.439239994351853),\n",
       " ('US-MMS', 10.092147363066044),\n",
       " ('US-PFa', 4.607175613024762),\n",
       " ('US-SRG', 8.46327704336383),\n",
       " ('US-SRM', 9.693785606503454),\n",
       " ('US-Syv', 6.937465774811619),\n",
       " ('US-Ton', 7.237391113472893),\n",
       " ('US-UMB', 5.92823765242846),\n",
       " ('US-UMd', 6.1492164388089305),\n",
       " ('US-Var', 13.63851887148826),\n",
       " ('US-WCr', 7.868444655166879),\n",
       " ('US-Wi4', 6.589493337380966),\n",
       " ('ZM-Mon', 6.78151950950176)]"
      ]
     },
     "execution_count": 348,
     "metadata": {},
     "output_type": "execute_result"
    }
   ],
   "source": [
    "cv"
   ]
  },
  {
   "cell_type": "code",
   "execution_count": 306,
   "metadata": {},
   "outputs": [],
   "source": [
    "X_test = sites_df[53].drop(columns=[\"GPP_NT_VUT_REF\",\"sitename\"]).values\n",
    "y_test = sites_df[53]['GPP_NT_VUT_REF']\n",
    "preds = regr.predict(X_test)"
   ]
  },
  {
   "cell_type": "code",
   "execution_count": 307,
   "metadata": {},
   "outputs": [
    {
     "data": {
      "application/vnd.jupyter.widget-view+json": {
       "model_id": "06b9caff535b4ad88c906dfa24e35856",
       "version_major": 2,
       "version_minor": 0
      },
      "text/plain": [
       "Canvas(toolbar=Toolbar(toolitems=[('Home', 'Reset original view', 'home', 'home'), ('Back', 'Back to previous …"
      ]
     },
     "metadata": {},
     "output_type": "display_data"
    }
   ],
   "source": [
    "%matplotlib widget\n",
    "index = sites_df[53].index\n",
    "plt.ion()\n",
    "plt.scatter(index, preds, label=\"Predictions\", s=1)\n",
    "plt.scatter(index, y_test, label=\"Ground truth\"+\" \"+sites_df[65]['sitename'].unique(), s=1)\n",
    "plt.legend()\n",
    "plt.show()"
   ]
  },
  {
   "cell_type": "code",
   "execution_count": 304,
   "metadata": {},
   "outputs": [
    {
     "data": {
      "application/vnd.jupyter.widget-view+json": {
       "model_id": "bacdcca8fb134fac97ee755301e64ab1",
       "version_major": 2,
       "version_minor": 0
      },
      "text/plain": [
       "Canvas(toolbar=Toolbar(toolitems=[('Home', 'Reset original view', 'home', 'home'), ('Back', 'Back to previous …"
      ]
     },
     "metadata": {},
     "output_type": "display_data"
    }
   ],
   "source": [
    "residuals = (preds - y_test) ** 2\n",
    "\n",
    "%matplotlib widget\n",
    "plt.ion()\n",
    "plt.scatter(index, residuals, label=\"Residuals\", s=1)\n",
    "plt.legend()\n",
    "plt.show()"
   ]
  },
  {
   "cell_type": "code",
   "execution_count": 305,
   "metadata": {},
   "outputs": [
    {
     "data": {
      "text/plain": [
       "10.983337980311918"
      ]
     },
     "execution_count": 305,
     "metadata": {},
     "output_type": "execute_result"
    }
   ],
   "source": [
    "from sklearn.metrics import mean_squared_error\n",
    "mean_squared_error(y_test,preds)"
   ]
  },
  {
   "cell_type": "code",
   "execution_count": null,
   "metadata": {},
   "outputs": [],
   "source": []
  },
  {
   "cell_type": "code",
   "execution_count": null,
   "metadata": {},
   "outputs": [],
   "source": []
  }
 ],
 "metadata": {
  "kernelspec": {
   "display_name": "Python 3",
   "language": "python",
   "name": "python3"
  },
  "language_info": {
   "codemirror_mode": {
    "name": "ipython",
    "version": 3
   },
   "file_extension": ".py",
   "mimetype": "text/x-python",
   "name": "python",
   "nbconvert_exporter": "python",
   "pygments_lexer": "ipython3",
   "version": "3.9.2"
  }
 },
 "nbformat": 4,
 "nbformat_minor": 4
}
