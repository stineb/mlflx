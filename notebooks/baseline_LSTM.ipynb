{
 "cells": [
  {
   "cell_type": "code",
   "execution_count": 2,
   "id": "suitable-plaza",
   "metadata": {},
   "outputs": [],
   "source": [
    "import torch; torch.manual_seed(0)\n",
    "import torch.nn as nn\n",
    "import torch.nn.functional as F\n",
    "import torch.utils\n",
    "import torch.distributions\n",
    "import numpy as np\n",
    "import matplotlib.pyplot as plt; plt.rcParams['figure.dpi'] = 200\n",
    "from torch.autograd import Variable\n"
   ]
  },
  {
   "cell_type": "code",
   "execution_count": 3,
   "id": "searching-baltimore",
   "metadata": {},
   "outputs": [],
   "source": [
    "device = 'cuda' if torch.cuda.is_available() else 'cpu'"
   ]
  },
  {
   "cell_type": "code",
   "execution_count": 4,
   "id": "opposite-sense",
   "metadata": {},
   "outputs": [],
   "source": [
    "import pandas as pd\n",
    "df = pd.read_csv(\"data/imputed/data_imp1.csv\")"
   ]
  },
  {
   "cell_type": "code",
   "execution_count": 101,
   "id": "straight-narrative",
   "metadata": {},
   "outputs": [
    {
     "name": "stderr",
     "output_type": "stream",
     "text": [
      "<ipython-input-101-fd9e8c323add>:6: SettingWithCopyWarning: \n",
      "A value is trying to be set on a copy of a slice from a DataFrame.\n",
      "Try using .loc[row_indexer,col_indexer] = value instead\n",
      "\n",
      "See the caveats in the documentation: https://pandas.pydata.org/pandas-docs/stable/user_guide/indexing.html#returning-a-view-versus-a-copy\n",
      "  sites_df[i]['date'] = pd.to_datetime(sites_df[i]['date'], format=\"%Y-%m-%d\")\n"
     ]
    }
   ],
   "source": [
    "# Group data by sitename\n",
    "sites = df['sitename'].unique()\n",
    "sites_df = [df[df['sitename'] == site] for site in sites]\n",
    "\n",
    "for i in range(len(sites_df)):\n",
    "    sites_df[i]['date'] = pd.to_datetime(sites_df[i]['date'], format=\"%Y-%m-%d\")\n",
    "    sites_df[i] = sites_df[i].set_index(\"date\")"
   ]
  },
  {
   "cell_type": "code",
   "execution_count": 110,
   "id": "biblical-purchase",
   "metadata": {},
   "outputs": [],
   "source": [
    "X = df[df.sitename != sites[65]].drop(columns=[\"Unnamed: 0\",\"sitename\",\"date\"]).values\n",
    "X_test = df[df.sitename == sites[65]].drop(columns=[\"Unnamed: 0\",\"sitename\",\"date\"]).values"
   ]
  },
  {
   "cell_type": "code",
   "execution_count": 111,
   "id": "approved-possible",
   "metadata": {},
   "outputs": [],
   "source": [
    "from sklearn.preprocessing import StandardScaler\n",
    "scaler = StandardScaler()\n",
    "X = scaler.fit_transform(X)\n",
    "X_test =  scaler.transform(X_test)"
   ]
  },
  {
   "cell_type": "code",
   "execution_count": 112,
   "id": "promising-leader",
   "metadata": {},
   "outputs": [],
   "source": [
    "def sliding_windows(data, seq_length):\n",
    "    x = []\n",
    "    y = []\n",
    "\n",
    "    for i in range(len(data)-seq_length-1):\n",
    "        _x = data[i:(i+seq_length)]\n",
    "        _y = data[i+seq_length]\n",
    "        x.append(_x)\n",
    "        y.append(_y)\n",
    "\n",
    "    return np.array(x),np.array(y)"
   ]
  },
  {
   "cell_type": "code",
   "execution_count": 113,
   "id": "excess-choice",
   "metadata": {},
   "outputs": [],
   "source": [
    "x_train,y_train = sliding_windows(X,32)\n",
    "x_test,y_test = sliding_windows(X_test,32)"
   ]
  },
  {
   "cell_type": "code",
   "execution_count": 114,
   "id": "discrete-perception",
   "metadata": {},
   "outputs": [],
   "source": [
    "trainX = Variable(torch.Tensor(np.array(x_train)))\n",
    "trainY = Variable(torch.Tensor(np.array(y_train[:,9].reshape(-1,1))))\n",
    "\n",
    "testX = Variable(torch.Tensor(np.array(x_test)))\n",
    "testY = Variable(torch.Tensor(np.array(y_test[:,9].reshape(-1,1))))"
   ]
  },
  {
   "cell_type": "code",
   "execution_count": 115,
   "id": "spoken-wrapping",
   "metadata": {},
   "outputs": [],
   "source": [
    "class LSTM(nn.Module):\n",
    "\n",
    "    def __init__(self, num_classes, input_size, hidden_size, num_layers):\n",
    "        super(LSTM, self).__init__()\n",
    "        \n",
    "        self.num_classes = num_classes\n",
    "        self.num_layers = num_layers\n",
    "        self.input_size = input_size\n",
    "        self.hidden_size = hidden_size\n",
    "        \n",
    "        self.lstm = nn.LSTM(input_size=input_size, hidden_size=hidden_size,\n",
    "                            num_layers=num_layers, batch_first=True)\n",
    "        \n",
    "        self.fc = nn.Linear(hidden_size, num_classes)\n",
    "\n",
    "    def forward(self, x):\n",
    "        h_0 = Variable(torch.zeros(\n",
    "            self.num_layers, x.size(0), self.hidden_size))\n",
    "        \n",
    "        c_0 = Variable(torch.zeros(\n",
    "            self.num_layers, x.size(0), self.hidden_size))\n",
    "        \n",
    "        # Propagate input through LSTM\n",
    "        ula, (h_out, _) = self.lstm(x, (h_0, c_0))\n",
    "        \n",
    "        h_out = h_out.view(-1, self.hidden_size)\n",
    "        \n",
    "        out = self.fc(h_out)\n",
    "        \n",
    "        return out"
   ]
  },
  {
   "cell_type": "code",
   "execution_count": 153,
   "id": "constitutional-damages",
   "metadata": {},
   "outputs": [],
   "source": [
    "num_epochs = 100\n",
    "learning_rate = 0.01\n",
    "\n",
    "input_size = 10\n",
    "hidden_size = 5\n",
    "num_layers = 1\n",
    "\n",
    "num_classes = 1\n",
    "lstm = LSTM(num_classes, input_size, hidden_size, num_layers)"
   ]
  },
  {
   "cell_type": "code",
   "execution_count": 154,
   "id": "convinced-withdrawal",
   "metadata": {},
   "outputs": [
    {
     "name": "stdout",
     "output_type": "stream",
     "text": [
      "Epoch: 0, loss: 5.16136\n",
      "Epoch: 20, loss: 1.11405\n",
      "Epoch: 40, loss: 0.82107\n",
      "Epoch: 60, loss: 1.00603\n",
      "Epoch: 80, loss: 0.89819\n"
     ]
    }
   ],
   "source": [
    "criterion = torch.nn.MSELoss()    # mean-squared error for regression\n",
    "optimizer = torch.optim.Adam(lstm.parameters(), lr=learning_rate)\n",
    "\n",
    "n_batches=32\n",
    "# Train the model\n",
    "for epoch in range(num_epochs):\n",
    "    for i in range(n_batches):\n",
    "        # Local batches and labels\n",
    "        local_X, local_y = trainX[i*n_batches:(i+1)*n_batches,], trainY[i*n_batches:(i+1)*n_batches,]\n",
    "        outputs = lstm(local_X)\n",
    "        optimizer.zero_grad()\n",
    "    \n",
    "        # obtain the loss function\n",
    "        loss = criterion(outputs, local_y)\n",
    "        \n",
    "        loss.backward()\n",
    "    \n",
    "        optimizer.step()\n",
    "    if epoch % 20 == 0:\n",
    "        print(\"Epoch: %d, loss: %1.5f\" % (epoch, loss.item()))\n"
   ]
  },
  {
   "cell_type": "code",
   "execution_count": 155,
   "id": "cellular-billy",
   "metadata": {},
   "outputs": [
    {
     "data": {
      "text/plain": [
       "tensor(0.5584, grad_fn=<MseLossBackward>)"
      ]
     },
     "execution_count": 155,
     "metadata": {},
     "output_type": "execute_result"
    }
   ],
   "source": [
    "criterion(lstm(testX),testY)"
   ]
  },
  {
   "cell_type": "code",
   "execution_count": 156,
   "id": "ceramic-modern",
   "metadata": {},
   "outputs": [
    {
     "data": {
      "application/vnd.jupyter.widget-view+json": {
       "model_id": "ca86ecc6852a480aabac331f9a677e8f",
       "version_major": 2,
       "version_minor": 0
      },
      "text/plain": [
       "Canvas(toolbar=Toolbar(toolitems=[('Home', 'Reset original view', 'home', 'home'), ('Back', 'Back to previous …"
      ]
     },
     "metadata": {},
     "output_type": "display_data"
    }
   ],
   "source": [
    "%matplotlib widget\n",
    "index = [i for i in range(testY.shape[0])]\n",
    "plt.ion()\n",
    "plt.scatter(index, lstm(testX).detach().numpy(), label=\"Predictions\", s=1)\n",
    "plt.scatter(index, testY.detach().numpy(), label=\"Ground truth\"+\" \"+sites_df[0]['sitename'].unique(), s=1)\n",
    "plt.legend()\n",
    "plt.show()"
   ]
  },
  {
   "cell_type": "code",
   "execution_count": null,
   "id": "identified-indication",
   "metadata": {},
   "outputs": [],
   "source": []
  }
 ],
 "metadata": {
  "kernelspec": {
   "display_name": "Python 3",
   "language": "python",
   "name": "python3"
  },
  "language_info": {
   "codemirror_mode": {
    "name": "ipython",
    "version": 3
   },
   "file_extension": ".py",
   "mimetype": "text/x-python",
   "name": "python",
   "nbconvert_exporter": "python",
   "pygments_lexer": "ipython3",
   "version": "3.9.2"
  }
 },
 "nbformat": 4,
 "nbformat_minor": 5
}
