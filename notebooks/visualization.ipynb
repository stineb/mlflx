{
 "cells": [
  {
   "cell_type": "code",
   "execution_count": 90,
   "metadata": {},
   "outputs": [],
   "source": [
    "import pandas as pd\n",
    "import matplotlib.pyplot as plt\n",
    "import seaborn as sns\n",
    "import calendar\n",
    "%matplotlib widget\n",
    "plt.ion()\n",
    "sns.set(rc={'figure.figsize': (11, 4)})\n",
    "import warnings\n",
    "warnings.filterwarnings('ignore')\n",
    "pd.set_option('display.max_rows', 500)\n",
    "pd.set_option('display.max_columns', 500)\n",
    "pd.set_option('display.width', 1000)"
   ]
  },
  {
   "cell_type": "code",
   "execution_count": 64,
   "metadata": {},
   "outputs": [],
   "source": [
    "ds = pd.read_csv(\"../data/ddf_combined_mlflx.csv\")"
   ]
  },
  {
   "cell_type": "code",
   "execution_count": 65,
   "metadata": {},
   "outputs": [
    {
     "data": {
      "text/plain": [
       "array(['AR-Vir', 'AU-Ade', 'AU-ASM', 'AU-DaP', 'AU-DaS', 'AU-Dry',\n",
       "       'AU-Fog', 'AU-Gin', 'AU-How', 'AU-Stp', 'AU-Whr', 'AU-Wom',\n",
       "       'BE-Bra', 'BE-Vie', 'CH-Fru', 'CH-Lae', 'CH-Oe1', 'CN-Cng',\n",
       "       'CN-Qia', 'CZ-wet', 'DE-Akm', 'DE-Geb', 'DE-Gri', 'DE-Hai',\n",
       "       'DE-Kli', 'DE-Obe', 'DE-RuR', 'DE-Spw', 'DE-Tha', 'DK-NuF',\n",
       "       'DK-Sor', 'FI-Hyy', 'FI-Sod', 'FR-Fon', 'FR-LBr', 'FR-Pue',\n",
       "       'IT-Col', 'IT-Cp2', 'IT-Cpz', 'IT-Isp', 'IT-Lav', 'IT-MBo',\n",
       "       'IT-Noe', 'IT-PT1', 'IT-Ren', 'IT-Ro1', 'IT-SR2', 'IT-SRo',\n",
       "       'IT-Tor', 'JP-SMF', 'NL-Hor', 'NL-Loo', 'RU-Fyo', 'SD-Dem',\n",
       "       'SN-Dhr', 'US-GLE', 'US-Ha1', 'US-Los', 'US-Me2', 'US-MMS',\n",
       "       'US-PFa', 'US-SRG', 'US-SRM', 'US-Syv', 'US-Ton', 'US-UMB',\n",
       "       'US-UMd', 'US-Var', 'US-WCr', 'US-Wi4', 'ZM-Mon'], dtype=object)"
      ]
     },
     "execution_count": 65,
     "metadata": {},
     "output_type": "execute_result"
    }
   ],
   "source": [
    "ds.sitename.unique()"
   ]
  },
  {
   "cell_type": "code",
   "execution_count": 93,
   "metadata": {},
   "outputs": [
    {
     "data": {
      "text/plain": [
       "('2008-01-01', '2014-12-31', 85.23333333333333)"
      ]
     },
     "execution_count": 93,
     "metadata": {},
     "output_type": "execute_result"
    }
   ],
   "source": [
    "site = \"IT-Tor\"\n",
    "ds[ds['sitename'] == site].date.unique().tolist()[0], ds[ds['sitename'] == site].date.unique().tolist()[-1], len(ds[ds['sitename'] == site].date.unique().tolist())/30"
   ]
  },
  {
   "cell_type": "code",
   "execution_count": 94,
   "metadata": {},
   "outputs": [],
   "source": [
    "def plot_target_by_months(ds, site, year):\n",
    "    site_df = ds[ds['sitename'] == site][[\"date\", \"GPP_NT_VUT_REF\"]]\n",
    "    site_df['date'] = pd.to_datetime(site_df['date'], format=\"%Y-%m-%d\")\n",
    "    site_df = site_df.set_index(\"date\")\n",
    "\n",
    "    year_df = site_df[site_df.index.year == year]\n",
    "    # year_df.groupby(year_df.index.month).boxplot()\n",
    "    year_df['month'] = year_df.index.month\n",
    "    year_df['month'] = year_df['month'].apply(lambda x: calendar.month_abbr[x])\n",
    "    %matplotlib widget\n",
    "    plt.ion()\n",
    "    sns.boxplot(data=year_df, x='month', y=\"GPP_NT_VUT_REF\").set_title(site + \" in \" + str(year))"
   ]
  },
  {
   "cell_type": "code",
   "execution_count": 96,
   "metadata": {},
   "outputs": [
    {
     "data": {
      "application/vnd.jupyter.widget-view+json": {
       "model_id": "dfa2ef4b6fd5437a80a3521ac4e83efe",
       "version_major": 2,
       "version_minor": 0
      },
      "text/plain": [
       "Canvas(toolbar=Toolbar(toolitems=[('Home', 'Reset original view', 'home', 'home'), ('Back', 'Back to previous …"
      ]
     },
     "metadata": {},
     "output_type": "display_data"
    }
   ],
   "source": [
    "plot_target_by_months(ds, \"IT-Tor\", 2010)"
   ]
  },
  {
   "cell_type": "code",
   "execution_count": null,
   "metadata": {},
   "outputs": [],
   "source": []
  }
 ],
 "metadata": {
  "kernelspec": {
   "display_name": "Python 3",
   "language": "python",
   "name": "python3"
  },
  "language_info": {
   "codemirror_mode": {
    "name": "ipython",
    "version": 3
   },
   "file_extension": ".py",
   "mimetype": "text/x-python",
   "name": "python",
   "nbconvert_exporter": "python",
   "pygments_lexer": "ipython3",
   "version": "3.7.6"
  }
 },
 "nbformat": 4,
 "nbformat_minor": 4
}
